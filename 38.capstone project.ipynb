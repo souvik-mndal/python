{
 "cells": [
  {
   "cell_type": "code",
   "execution_count": 2,
   "id": "b677f392-0148-4448-bbe0-c1637d190b3e",
   "metadata": {
    "scrolled": true
   },
   "outputs": [
    {
     "data": {
      "text/html": [
       "<div>\n",
       "<style scoped>\n",
       "    .dataframe tbody tr th:only-of-type {\n",
       "        vertical-align: middle;\n",
       "    }\n",
       "\n",
       "    .dataframe tbody tr th {\n",
       "        vertical-align: top;\n",
       "    }\n",
       "\n",
       "    .dataframe thead th {\n",
       "        text-align: right;\n",
       "    }\n",
       "</style>\n",
       "<table border=\"1\" class=\"dataframe\">\n",
       "  <thead>\n",
       "    <tr style=\"text-align: right;\">\n",
       "      <th></th>\n",
       "      <th>country</th>\n",
       "      <th>country_long</th>\n",
       "      <th>currency</th>\n",
       "      <th>capital_city</th>\n",
       "      <th>region</th>\n",
       "      <th>continent</th>\n",
       "      <th>demonym</th>\n",
       "      <th>latitude</th>\n",
       "      <th>longitude</th>\n",
       "      <th>agricultural_land</th>\n",
       "      <th>...</th>\n",
       "      <th>population</th>\n",
       "      <th>women_parliament_seats_pct</th>\n",
       "      <th>rural_population</th>\n",
       "      <th>urban_population</th>\n",
       "      <th>press</th>\n",
       "      <th>democracy_score</th>\n",
       "      <th>democracy_type</th>\n",
       "      <th>median_age</th>\n",
       "      <th>political_leader</th>\n",
       "      <th>title</th>\n",
       "    </tr>\n",
       "  </thead>\n",
       "  <tbody>\n",
       "    <tr>\n",
       "      <th>0</th>\n",
       "      <td>Afghanistan</td>\n",
       "      <td>Islamic State of Afghanistan</td>\n",
       "      <td>Afghan afghani</td>\n",
       "      <td>Kabul</td>\n",
       "      <td>Southern Asia</td>\n",
       "      <td>Asia</td>\n",
       "      <td>Afghan</td>\n",
       "      <td>33.000000</td>\n",
       "      <td>65.000000</td>\n",
       "      <td>383560.0</td>\n",
       "      <td>...</td>\n",
       "      <td>41128771</td>\n",
       "      <td>27.01610</td>\n",
       "      <td>30181937</td>\n",
       "      <td>10946834</td>\n",
       "      <td>2.14</td>\n",
       "      <td>2.97</td>\n",
       "      <td>Authoritarian</td>\n",
       "      <td>12.9</td>\n",
       "      <td>Ashraf Ghani</td>\n",
       "      <td>President</td>\n",
       "    </tr>\n",
       "    <tr>\n",
       "      <th>1</th>\n",
       "      <td>Albania</td>\n",
       "      <td>Republic of Albania</td>\n",
       "      <td>Albanian lek</td>\n",
       "      <td>Tirana</td>\n",
       "      <td>Southern Europe</td>\n",
       "      <td>Europe</td>\n",
       "      <td>Albanian</td>\n",
       "      <td>41.000000</td>\n",
       "      <td>20.000000</td>\n",
       "      <td>11655.5</td>\n",
       "      <td>...</td>\n",
       "      <td>2775634</td>\n",
       "      <td>35.71430</td>\n",
       "      <td>1004807</td>\n",
       "      <td>1770827</td>\n",
       "      <td>2.62</td>\n",
       "      <td>5.98</td>\n",
       "      <td>Hybrid regime</td>\n",
       "      <td>33.7</td>\n",
       "      <td>Edi Rama</td>\n",
       "      <td>Prime Minister</td>\n",
       "    </tr>\n",
       "    <tr>\n",
       "      <th>2</th>\n",
       "      <td>Algeria</td>\n",
       "      <td>People's Democratic Republic of Algeria</td>\n",
       "      <td>Algerian dinar</td>\n",
       "      <td>Algiers</td>\n",
       "      <td>Northern Africa</td>\n",
       "      <td>Africa</td>\n",
       "      <td>Algerian</td>\n",
       "      <td>28.000000</td>\n",
       "      <td>3.000000</td>\n",
       "      <td>413588.0</td>\n",
       "      <td>...</td>\n",
       "      <td>44903225</td>\n",
       "      <td>8.10811</td>\n",
       "      <td>11328186</td>\n",
       "      <td>33575039</td>\n",
       "      <td>1.71</td>\n",
       "      <td>3.50</td>\n",
       "      <td>Authoritarian</td>\n",
       "      <td>24.0</td>\n",
       "      <td>Abdelmadjid Tebboune</td>\n",
       "      <td>President</td>\n",
       "    </tr>\n",
       "    <tr>\n",
       "      <th>3</th>\n",
       "      <td>Andorra</td>\n",
       "      <td>Principality of Andorra</td>\n",
       "      <td>Euro</td>\n",
       "      <td>Andorra la Vella</td>\n",
       "      <td>Southern Europe</td>\n",
       "      <td>Europe</td>\n",
       "      <td>Andorran</td>\n",
       "      <td>42.500000</td>\n",
       "      <td>1.500000</td>\n",
       "      <td>187.2</td>\n",
       "      <td>...</td>\n",
       "      <td>79824</td>\n",
       "      <td>46.42860</td>\n",
       "      <td>9730</td>\n",
       "      <td>70094</td>\n",
       "      <td>3.17</td>\n",
       "      <td>0.00</td>\n",
       "      <td>Unknown</td>\n",
       "      <td>38.9</td>\n",
       "      <td>Xavier Espot Zamora</td>\n",
       "      <td>Head of Government</td>\n",
       "    </tr>\n",
       "    <tr>\n",
       "      <th>4</th>\n",
       "      <td>Angola</td>\n",
       "      <td>People's Republic of Angola</td>\n",
       "      <td>Angolan kwanza</td>\n",
       "      <td>Luanda</td>\n",
       "      <td>Middle Africa</td>\n",
       "      <td>Africa</td>\n",
       "      <td>Angolan</td>\n",
       "      <td>-12.500000</td>\n",
       "      <td>18.500000</td>\n",
       "      <td>569525.0</td>\n",
       "      <td>...</td>\n",
       "      <td>35588987</td>\n",
       "      <td>33.63640</td>\n",
       "      <td>11359649</td>\n",
       "      <td>24229338</td>\n",
       "      <td>2.24</td>\n",
       "      <td>3.62</td>\n",
       "      <td>Authoritarian</td>\n",
       "      <td>12.4</td>\n",
       "      <td>João Lourenço</td>\n",
       "      <td>President</td>\n",
       "    </tr>\n",
       "    <tr>\n",
       "      <th>...</th>\n",
       "      <td>...</td>\n",
       "      <td>...</td>\n",
       "      <td>...</td>\n",
       "      <td>...</td>\n",
       "      <td>...</td>\n",
       "      <td>...</td>\n",
       "      <td>...</td>\n",
       "      <td>...</td>\n",
       "      <td>...</td>\n",
       "      <td>...</td>\n",
       "      <td>...</td>\n",
       "      <td>...</td>\n",
       "      <td>...</td>\n",
       "      <td>...</td>\n",
       "      <td>...</td>\n",
       "      <td>...</td>\n",
       "      <td>...</td>\n",
       "      <td>...</td>\n",
       "      <td>...</td>\n",
       "      <td>...</td>\n",
       "      <td>...</td>\n",
       "    </tr>\n",
       "    <tr>\n",
       "      <th>189</th>\n",
       "      <td>Vietnam</td>\n",
       "      <td>Socialist Republic of Vietnam</td>\n",
       "      <td>Vietnamese dong</td>\n",
       "      <td>Hanoi</td>\n",
       "      <td>South-Eastern Asia</td>\n",
       "      <td>Asia</td>\n",
       "      <td>Vietnamese</td>\n",
       "      <td>16.166667</td>\n",
       "      <td>107.833333</td>\n",
       "      <td>123600.0</td>\n",
       "      <td>...</td>\n",
       "      <td>98186856</td>\n",
       "      <td>30.26050</td>\n",
       "      <td>60123739</td>\n",
       "      <td>38063117</td>\n",
       "      <td>1.04</td>\n",
       "      <td>3.08</td>\n",
       "      <td>Authoritarian</td>\n",
       "      <td>28.4</td>\n",
       "      <td>Nguyễn Phú Trọng</td>\n",
       "      <td>General Secretary of the Communist Party</td>\n",
       "    </tr>\n",
       "    <tr>\n",
       "      <th>190</th>\n",
       "      <td>West Bank and Gaza</td>\n",
       "      <td>West Bank and Gaza</td>\n",
       "      <td>Israeli new shekel</td>\n",
       "      <td>Ramallah</td>\n",
       "      <td>Western Asia</td>\n",
       "      <td>Asia</td>\n",
       "      <td>Palestinian</td>\n",
       "      <td>31.900000</td>\n",
       "      <td>35.200000</td>\n",
       "      <td>4449.0</td>\n",
       "      <td>...</td>\n",
       "      <td>5043612</td>\n",
       "      <td>NaN</td>\n",
       "      <td>1145354</td>\n",
       "      <td>3898258</td>\n",
       "      <td>1.75</td>\n",
       "      <td>4.39</td>\n",
       "      <td>Hybrid regime</td>\n",
       "      <td>15.4</td>\n",
       "      <td>NaN</td>\n",
       "      <td>NaN</td>\n",
       "    </tr>\n",
       "    <tr>\n",
       "      <th>191</th>\n",
       "      <td>Yemen</td>\n",
       "      <td>Republic of Yemen</td>\n",
       "      <td>Yemeni rial</td>\n",
       "      <td>Sana'a</td>\n",
       "      <td>Western Asia</td>\n",
       "      <td>Asia</td>\n",
       "      <td>Yemeni</td>\n",
       "      <td>15.000000</td>\n",
       "      <td>48.000000</td>\n",
       "      <td>234520.0</td>\n",
       "      <td>...</td>\n",
       "      <td>33696614</td>\n",
       "      <td>0.00000</td>\n",
       "      <td>20491585</td>\n",
       "      <td>13205029</td>\n",
       "      <td>1.27</td>\n",
       "      <td>1.95</td>\n",
       "      <td>Authoritarian</td>\n",
       "      <td>14.8</td>\n",
       "      <td>Abdrabbuh Mansur Hadi</td>\n",
       "      <td>President</td>\n",
       "    </tr>\n",
       "    <tr>\n",
       "      <th>192</th>\n",
       "      <td>Zambia</td>\n",
       "      <td>Republic of Zambia</td>\n",
       "      <td>New Zambian kwacha</td>\n",
       "      <td>Lusaka</td>\n",
       "      <td>Eastern Africa</td>\n",
       "      <td>Africa</td>\n",
       "      <td>Zambian</td>\n",
       "      <td>-15.000000</td>\n",
       "      <td>30.000000</td>\n",
       "      <td>238360.0</td>\n",
       "      <td>...</td>\n",
       "      <td>20017675</td>\n",
       "      <td>15.06020</td>\n",
       "      <td>10857387</td>\n",
       "      <td>9160288</td>\n",
       "      <td>2.15</td>\n",
       "      <td>5.61</td>\n",
       "      <td>Hybrid regime</td>\n",
       "      <td>13.2</td>\n",
       "      <td>Edgar Lungu</td>\n",
       "      <td>President</td>\n",
       "    </tr>\n",
       "    <tr>\n",
       "      <th>193</th>\n",
       "      <td>Zimbabwe</td>\n",
       "      <td>Republic of Zimbabwe</td>\n",
       "      <td>U.S. dollar</td>\n",
       "      <td>Harare</td>\n",
       "      <td>Eastern Africa</td>\n",
       "      <td>Africa</td>\n",
       "      <td>Zimbabwean</td>\n",
       "      <td>-20.000000</td>\n",
       "      <td>30.000000</td>\n",
       "      <td>162000.0</td>\n",
       "      <td>...</td>\n",
       "      <td>16320537</td>\n",
       "      <td>30.56600</td>\n",
       "      <td>11033499</td>\n",
       "      <td>5287038</td>\n",
       "      <td>1.85</td>\n",
       "      <td>3.16</td>\n",
       "      <td>Authoritarian</td>\n",
       "      <td>14.2</td>\n",
       "      <td>Emmerson Mnangagwa</td>\n",
       "      <td>President</td>\n",
       "    </tr>\n",
       "  </tbody>\n",
       "</table>\n",
       "<p>194 rows × 64 columns</p>\n",
       "</div>"
      ],
      "text/plain": [
       "                country                             country_long  \\\n",
       "0           Afghanistan             Islamic State of Afghanistan   \n",
       "1               Albania                      Republic of Albania   \n",
       "2               Algeria  People's Democratic Republic of Algeria   \n",
       "3               Andorra                  Principality of Andorra   \n",
       "4                Angola              People's Republic of Angola   \n",
       "..                  ...                                      ...   \n",
       "189             Vietnam            Socialist Republic of Vietnam   \n",
       "190  West Bank and Gaza                       West Bank and Gaza   \n",
       "191               Yemen                        Republic of Yemen   \n",
       "192              Zambia                       Republic of Zambia   \n",
       "193            Zimbabwe                     Republic of Zimbabwe   \n",
       "\n",
       "               currency      capital_city              region continent  \\\n",
       "0        Afghan afghani             Kabul       Southern Asia      Asia   \n",
       "1          Albanian lek            Tirana     Southern Europe    Europe   \n",
       "2        Algerian dinar           Algiers     Northern Africa    Africa   \n",
       "3                  Euro  Andorra la Vella     Southern Europe    Europe   \n",
       "4        Angolan kwanza            Luanda       Middle Africa    Africa   \n",
       "..                  ...               ...                 ...       ...   \n",
       "189     Vietnamese dong             Hanoi  South-Eastern Asia      Asia   \n",
       "190  Israeli new shekel          Ramallah        Western Asia      Asia   \n",
       "191         Yemeni rial            Sana'a        Western Asia      Asia   \n",
       "192  New Zambian kwacha            Lusaka      Eastern Africa    Africa   \n",
       "193         U.S. dollar            Harare      Eastern Africa    Africa   \n",
       "\n",
       "         demonym   latitude   longitude  agricultural_land  ...  population  \\\n",
       "0         Afghan  33.000000   65.000000           383560.0  ...    41128771   \n",
       "1       Albanian  41.000000   20.000000            11655.5  ...     2775634   \n",
       "2       Algerian  28.000000    3.000000           413588.0  ...    44903225   \n",
       "3       Andorran  42.500000    1.500000              187.2  ...       79824   \n",
       "4        Angolan -12.500000   18.500000           569525.0  ...    35588987   \n",
       "..           ...        ...         ...                ...  ...         ...   \n",
       "189   Vietnamese  16.166667  107.833333           123600.0  ...    98186856   \n",
       "190  Palestinian  31.900000   35.200000             4449.0  ...     5043612   \n",
       "191       Yemeni  15.000000   48.000000           234520.0  ...    33696614   \n",
       "192      Zambian -15.000000   30.000000           238360.0  ...    20017675   \n",
       "193   Zimbabwean -20.000000   30.000000           162000.0  ...    16320537   \n",
       "\n",
       "     women_parliament_seats_pct  rural_population  urban_population  press  \\\n",
       "0                      27.01610          30181937          10946834   2.14   \n",
       "1                      35.71430           1004807           1770827   2.62   \n",
       "2                       8.10811          11328186          33575039   1.71   \n",
       "3                      46.42860              9730             70094   3.17   \n",
       "4                      33.63640          11359649          24229338   2.24   \n",
       "..                          ...               ...               ...    ...   \n",
       "189                    30.26050          60123739          38063117   1.04   \n",
       "190                         NaN           1145354           3898258   1.75   \n",
       "191                     0.00000          20491585          13205029   1.27   \n",
       "192                    15.06020          10857387           9160288   2.15   \n",
       "193                    30.56600          11033499           5287038   1.85   \n",
       "\n",
       "     democracy_score  democracy_type  median_age       political_leader  \\\n",
       "0               2.97   Authoritarian        12.9           Ashraf Ghani   \n",
       "1               5.98   Hybrid regime        33.7               Edi Rama   \n",
       "2               3.50   Authoritarian        24.0   Abdelmadjid Tebboune   \n",
       "3               0.00         Unknown        38.9    Xavier Espot Zamora   \n",
       "4               3.62   Authoritarian        12.4          João Lourenço   \n",
       "..               ...             ...         ...                    ...   \n",
       "189             3.08   Authoritarian        28.4       Nguyễn Phú Trọng   \n",
       "190             4.39   Hybrid regime        15.4                    NaN   \n",
       "191             1.95   Authoritarian        14.8  Abdrabbuh Mansur Hadi   \n",
       "192             5.61   Hybrid regime        13.2            Edgar Lungu   \n",
       "193             3.16   Authoritarian        14.2     Emmerson Mnangagwa   \n",
       "\n",
       "                                        title  \n",
       "0                                   President  \n",
       "1                              Prime Minister  \n",
       "2                                   President  \n",
       "3                          Head of Government  \n",
       "4                                   President  \n",
       "..                                        ...  \n",
       "189  General Secretary of the Communist Party  \n",
       "190                                       NaN  \n",
       "191                                 President  \n",
       "192                                 President  \n",
       "193                                 President  \n",
       "\n",
       "[194 rows x 64 columns]"
      ]
     },
     "execution_count": 2,
     "metadata": {},
     "output_type": "execute_result"
    }
   ],
   "source": [
    "import numpy as np\n",
    "import pandas as pd\n",
    "\n",
    "file = pd.read_csv(r'38.Countries.csv')\n",
    "file"
   ]
  },
  {
   "cell_type": "code",
   "execution_count": null,
   "id": "5a2f7ae0-9c2d-41a3-9451-c9f942ca49fd",
   "metadata": {},
   "outputs": [],
   "source": []
  },
  {
   "cell_type": "code",
   "execution_count": 3,
   "id": "e2530c94-036e-455a-810e-ede1f75fa113",
   "metadata": {},
   "outputs": [
    {
     "name": "stdout",
     "output_type": "stream",
     "text": [
      "<class 'pandas.core.frame.DataFrame'>\n",
      "RangeIndex: 194 entries, 0 to 193\n",
      "Data columns (total 64 columns):\n",
      " #   Column                                   Non-Null Count  Dtype  \n",
      "---  ------                                   --------------  -----  \n",
      " 0   country                                  194 non-null    object \n",
      " 1   country_long                             194 non-null    object \n",
      " 2   currency                                 194 non-null    object \n",
      " 3   capital_city                             194 non-null    object \n",
      " 4   region                                   194 non-null    object \n",
      " 5   continent                                194 non-null    object \n",
      " 6   demonym                                  194 non-null    object \n",
      " 7   latitude                                 194 non-null    float64\n",
      " 8   longitude                                194 non-null    float64\n",
      " 9   agricultural_land                        193 non-null    float64\n",
      " 10  forest_area                              194 non-null    float64\n",
      " 11  land_area                                194 non-null    float64\n",
      " 12  rural_land                               194 non-null    float64\n",
      " 13  urban_land                               194 non-null    float64\n",
      " 14  central_government_debt_pct_gdp          120 non-null    float64\n",
      " 15  expense_pct_gdp                          156 non-null    float64\n",
      " 16  gdp                                      193 non-null    float64\n",
      " 17  inflation                                184 non-null    float64\n",
      " 18  self_employed_pct                        179 non-null    float64\n",
      " 19  tax_revenue_pct_gdp                      159 non-null    float64\n",
      " 20  unemployment_pct                         179 non-null    float64\n",
      " 21  vulnerable_employment_pct                179 non-null    float64\n",
      " 22  electricity_access_pct                   194 non-null    float64\n",
      " 23  alternative_nuclear_energy_pct           138 non-null    float64\n",
      " 24  electricty_production_coal_pct           138 non-null    float64\n",
      " 25  electricty_production_hydroelectric_pct  138 non-null    float64\n",
      " 26  electricty_production_gas_pct            138 non-null    float64\n",
      " 27  electricty_production_nuclear_pct        138 non-null    float64\n",
      " 28  electricty_production_oil_pct            138 non-null    float64\n",
      " 29  electricty_production_renewable_pct      138 non-null    float64\n",
      " 30  energy_imports_pct                       138 non-null    float64\n",
      " 31  fossil_energy_consumption_pct            168 non-null    float64\n",
      " 32  renewable_energy_consumption_pct         192 non-null    float64\n",
      " 33  co2_emissions                            191 non-null    float64\n",
      " 34  methane_emissions                        191 non-null    float64\n",
      " 35  nitrous_oxide_emissions                  191 non-null    float64\n",
      " 36  greenhouse_other_emissions               184 non-null    float64\n",
      " 37  urban_population_under_5m                194 non-null    float64\n",
      " 38  health_expenditure_pct_gdp               190 non-null    float64\n",
      " 39  health_expenditure_capita                190 non-null    float64\n",
      " 40  hospital_beds                            192 non-null    float64\n",
      " 41  hiv_incidence                            133 non-null    float64\n",
      " 42  suicide_rate                             183 non-null    float64\n",
      " 43  armed_forces                             174 non-null    float64\n",
      " 44  internally_displaced_persons             73 non-null     float64\n",
      " 45  military_expenditure_pct_gdp             163 non-null    float64\n",
      " 46  birth_rate                               194 non-null    float64\n",
      " 47  death_rate                               194 non-null    float64\n",
      " 48  fertility_rate                           193 non-null    float64\n",
      " 49  internet_pct                             194 non-null    float64\n",
      " 50  life_expectancy                          191 non-null    float64\n",
      " 51  net_migration                            194 non-null    int64  \n",
      " 52  population_female                        194 non-null    int64  \n",
      " 53  population_male                          194 non-null    int64  \n",
      " 54  population                               194 non-null    int64  \n",
      " 55  women_parliament_seats_pct               193 non-null    float64\n",
      " 56  rural_population                         194 non-null    int64  \n",
      " 57  urban_population                         194 non-null    int64  \n",
      " 58  press                                    194 non-null    float64\n",
      " 59  democracy_score                          194 non-null    float64\n",
      " 60  democracy_type                           194 non-null    object \n",
      " 61  median_age                               194 non-null    float64\n",
      " 62  political_leader                         187 non-null    object \n",
      " 63  title                                    187 non-null    object \n",
      "dtypes: float64(48), int64(6), object(10)\n",
      "memory usage: 97.1+ KB\n"
     ]
    }
   ],
   "source": [
    "file.shape\n",
    "file.info()"
   ]
  },
  {
   "cell_type": "code",
   "execution_count": 4,
   "id": "4be119ef-e16e-4826-8b91-9aa47306a81e",
   "metadata": {},
   "outputs": [
    {
     "data": {
      "text/plain": [
       "(194, 64)"
      ]
     },
     "execution_count": 4,
     "metadata": {},
     "output_type": "execute_result"
    }
   ],
   "source": [
    "file.shape"
   ]
  },
  {
   "cell_type": "code",
   "execution_count": 5,
   "id": "a21a6fab-3def-46c1-bd6c-930859bff2b0",
   "metadata": {},
   "outputs": [
    {
     "data": {
      "text/plain": [
       "75    India\n",
       "Name: country, dtype: object"
      ]
     },
     "execution_count": 5,
     "metadata": {},
     "output_type": "execute_result"
    }
   ],
   "source": [
    "#which country has the highest population\n",
    "file['country'][(file['population'] ) == (file['population'].max())]"
   ]
  },
  {
   "cell_type": "code",
   "execution_count": 6,
   "id": "611e71fe-cf1c-42e3-b2dd-f5efdf5cc719",
   "metadata": {},
   "outputs": [
    {
     "data": {
      "text/plain": [
       "75    New Delhi\n",
       "Name: capital_city, dtype: object"
      ]
     },
     "execution_count": 6,
     "metadata": {},
     "output_type": "execute_result"
    }
   ],
   "source": [
    "#what is the capital of the country with the highest population\n",
    "file['capital_city'][(file['population'] ) == (file['population'].max())]"
   ]
  },
  {
   "cell_type": "code",
   "execution_count": 7,
   "id": "1cfd82c2-6540-4eeb-8ceb-6aed42efd212",
   "metadata": {},
   "outputs": [
    {
     "data": {
      "text/plain": [
       "179    Tuvalu\n",
       "Name: country, dtype: object"
      ]
     },
     "execution_count": 7,
     "metadata": {},
     "output_type": "execute_result"
    }
   ],
   "source": [
    "#which country has the least population\n",
    "file['country'][(file['population'] ) == (file['population'].min())]"
   ]
  },
  {
   "cell_type": "code",
   "execution_count": 8,
   "id": "3dccd684-4f87-421c-92b7-0ebbdb04eac0",
   "metadata": {},
   "outputs": [
    {
     "data": {
      "text/plain": [
       "179    Funafuti\n",
       "Name: capital_city, dtype: object"
      ]
     },
     "execution_count": 8,
     "metadata": {},
     "output_type": "execute_result"
    }
   ],
   "source": [
    "#which country has the least population give me the capital\n",
    "file['capital_city'][(file['population'] ) == (file['population'].min())]"
   ]
  },
  {
   "cell_type": "code",
   "execution_count": 9,
   "id": "d85ccdf6-8511-4847-939d-2c73556d6e3f",
   "metadata": {},
   "outputs": [
    {
     "data": {
      "text/plain": [
       "127         Norway\n",
       "74         Iceland\n",
       "164         Sweden\n",
       "122    New Zealand\n",
       "46         Denmark\n",
       "Name: country, dtype: object"
      ]
     },
     "execution_count": 9,
     "metadata": {},
     "output_type": "execute_result"
    }
   ],
   "source": [
    "\n",
    "#give me top 5 countries with the highest democratic score\n",
    "topdemo = file.sort_values(by='democracy_score',ascending=False).head()\n",
    "topdemo['country']\n",
    "\n"
   ]
  },
  {
   "cell_type": "code",
   "execution_count": 10,
   "id": "616f1e2a-a8ae-4614-8d62-7332359b25d6",
   "metadata": {},
   "outputs": [
    {
     "data": {
      "text/plain": [
       "22"
      ]
     },
     "execution_count": 10,
     "metadata": {},
     "output_type": "execute_result"
    }
   ],
   "source": [
    "#how many total region are there \n",
    "file['region'].unique().size"
   ]
  },
  {
   "cell_type": "code",
   "execution_count": 11,
   "id": "24fd5a51-d810-4ead-a155-495c629b786c",
   "metadata": {},
   "outputs": [
    {
     "data": {
      "text/plain": [
       "np.int64(10)"
      ]
     },
     "execution_count": 11,
     "metadata": {},
     "output_type": "execute_result"
    }
   ],
   "source": [
    "#total number of countries lie in eastern europe region\n",
    "\n",
    "# file['region'][file['region'] == 'Eastern Europe'].count()\n",
    "file['region'].value_counts()['Eastern Europe']"
   ]
  },
  {
   "cell_type": "code",
   "execution_count": 12,
   "id": "b2ae14c9-8416-487b-97b7-c2e885ec67f4",
   "metadata": {},
   "outputs": [
    {
     "data": {
      "text/plain": [
       "'Xi Jinping'"
      ]
     },
     "execution_count": 12,
     "metadata": {},
     "output_type": "execute_result"
    }
   ],
   "source": [
    "#who is the political leader of the 2nd highest population country\n",
    "# poli = file.sort_values(by='population',ascending=False)\n",
    "# poli.iloc[1]['political_leader']\n",
    "\n",
    "file.sort_values(by='population',ascending=False).iloc[1]['political_leader']"
   ]
  },
  {
   "cell_type": "code",
   "execution_count": 13,
   "id": "79e0e7db-696b-4ab0-89e4-a94c8002f7e7",
   "metadata": {},
   "outputs": [
    {
     "data": {
      "text/plain": [
       "np.int64(7)"
      ]
     },
     "execution_count": 13,
     "metadata": {},
     "output_type": "execute_result"
    }
   ],
   "source": [
    "#how many countries are there whose political leader are unknown\n",
    "file[file['political_leader'].isna()]['country'].count()"
   ]
  },
  {
   "cell_type": "code",
   "execution_count": 14,
   "id": "e990c8e6-9ead-4daa-9795-43047ea8eba9",
   "metadata": {},
   "outputs": [
    {
     "data": {
      "text/plain": [
       "np.int64(125)"
      ]
     },
     "execution_count": 14,
     "metadata": {},
     "output_type": "execute_result"
    }
   ],
   "source": [
    "#how many countries have republic in there full name\n",
    "def check(txt):\n",
    "    if( (txt.find('Republic') != -1) or (txt.find('republic') != -1) ):\n",
    "        return True\n",
    "\n",
    "\n",
    "file[(file['country_long'].apply(check)) == True]['country'].count()"
   ]
  },
  {
   "cell_type": "code",
   "execution_count": 15,
   "id": "f6b465f3-7598-416a-b5db-b3b327f02d6e",
   "metadata": {},
   "outputs": [
    {
     "data": {
      "text/plain": [
       "'Nigeria'"
      ]
     },
     "execution_count": 15,
     "metadata": {},
     "output_type": "execute_result"
    }
   ],
   "source": [
    "#which country in africa region has highest population\n",
    "file[file['continent'] == 'Africa'].sort_values(by='population',ascending=False).iloc[0]['country']"
   ]
  },
  {
   "cell_type": "code",
   "execution_count": null,
   "id": "7b24f625-0008-4983-a816-93c7c37b52fb",
   "metadata": {},
   "outputs": [],
   "source": []
  },
  {
   "cell_type": "code",
   "execution_count": null,
   "id": "1d8a7022-2cd5-40cf-8f3e-6f40c9b1dab8",
   "metadata": {},
   "outputs": [],
   "source": []
  },
  {
   "cell_type": "code",
   "execution_count": null,
   "id": "19ded92d-f310-4981-9c9e-95d92657eca2",
   "metadata": {},
   "outputs": [],
   "source": []
  },
  {
   "cell_type": "code",
   "execution_count": null,
   "id": "a5781ad8-df4c-4a74-9653-a14be567e385",
   "metadata": {},
   "outputs": [],
   "source": []
  }
 ],
 "metadata": {
  "kernelspec": {
   "display_name": "base",
   "language": "python",
   "name": "python3"
  },
  "language_info": {
   "codemirror_mode": {
    "name": "ipython",
    "version": 3
   },
   "file_extension": ".py",
   "mimetype": "text/x-python",
   "name": "python",
   "nbconvert_exporter": "python",
   "pygments_lexer": "ipython3",
   "version": "3.13.5"
  },
  "widgets": {
   "application/vnd.jupyter.widget-state+json": {
    "state": {},
    "version_major": 2,
    "version_minor": 0
   }
  }
 },
 "nbformat": 4,
 "nbformat_minor": 5
}
