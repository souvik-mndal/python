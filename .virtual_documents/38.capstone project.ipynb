import numpy as np
import pandas as pd

file = pd.read_csv(r'38.Countries.csv')
file

file.shape
file.info()

file.shape

#which country has the highest population
file['country'][(file['population'] ) == (file['population'].max())]

#what is the capital of the country with the highest population
file['capital_city'][(file['population'] ) == (file['population'].max())]

#which country has the least population
file['country'][(file['population'] ) == (file['population'].min())]

#which country has the least population give me the capital
file['capital_city'][(file['population'] ) == (file['population'].min())]

#give me top 5 countries with the highest democratic score
topdemo = file.sort_values(by='democracy_score',ascending=False).head()
topdemo['country']

#how many total region are there 
file['region'].unique






























